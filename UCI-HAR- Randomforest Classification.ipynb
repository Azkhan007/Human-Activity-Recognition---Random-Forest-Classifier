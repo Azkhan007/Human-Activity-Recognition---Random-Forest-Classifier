{
 "cells": [
  {
   "cell_type": "code",
   "execution_count": 3,
   "metadata": {},
   "outputs": [],
   "source": [
    "import numpy as np\n",
    "import pandas as pd\n",
    "import matplotlib.pyplot as plt\n",
    "import seaborn as sns\n",
    "import sklearn\n",
    "import numpy as np\n",
    "import pandas as pd\n",
    "from sklearn.tree import DecisionTreeClassifier\n",
    "from sklearn.ensemble import RandomForestClassifier\n",
    "from sklearn.model_selection import train_test_split\n",
    "from sklearn.metrics import accuracy_score\n",
    "from xgboost import XGBClassifier\n",
    "import matplotlib.pyplot as plt\n",
    "import plotly.graph_objs as go\n",
    "import plotly.express as px\n",
    "import plotly.io as pio\n",
    "from sklearn.model_selection import GridSearchCV\n",
    "from sklearn.metrics import accuracy_score, precision_score, recall_score, f1_score, roc_auc_score, confusion_matrix, make_scorer\n",
    "from sklearn.datasets import make_classification\n",
    "from sklearn.utils.multiclass import unique_labels\n",
    "from sklearn.naive_bayes import GaussianNB, BernoulliNB\n",
    "from sklearn.metrics import accuracy_score, classification_report\n",
    "from sklearn.utils import shuffle\n",
    "import pandas as pd\n",
    "import numpy as np\n",
    "from sklearn.preprocessing import StandardScaler\n",
    "from sklearn.decomposition import PCA\n",
    "from pgmpy.models import BayesianNetwork\n",
    "from pgmpy.estimators import BayesianEstimator, MaximumLikelihoodEstimator\n",
    "from sklearn.metrics import accuracy_score\n",
    "from sklearn.utils import shuffle\n",
    "\n",
    "# import plotly.graph_objects as go"
   ]
  },
  {
   "cell_type": "markdown",
   "metadata": {},
   "source": [
    "#### Features\n"
   ]
  },
  {
   "cell_type": "code",
   "execution_count": 2,
   "metadata": {},
   "outputs": [
    {
     "name": "stdout",
     "output_type": "stream",
     "text": [
      "No of Features: 561\n"
     ]
    }
   ],
   "source": [
    "# Set a random seed for reproducibility\n",
    "np.random.seed(42)\n",
    "\n",
    "# Get feature names from the file features.txt\n",
    "features = []\n",
    "with open(r'D:\\Adeel\\UCI HAR Dataset\\features.txt') as f:\n",
    "    features = [line.split()[1] for line in f.readlines()]\n",
    "\n",
    "print('No of Features:', len(features))\n",
    "\n",
    "# Handle duplicated features by renaming\n",
    "seen = set()\n",
    "uniq_features = []\n",
    "for idx, x in enumerate(features):\n",
    "    if x not in seen:\n",
    "        uniq_features.append(x)\n",
    "        seen.add(x)\n",
    "    elif x + 'n' not in seen:\n",
    "        uniq_features.append(x + 'n')\n",
    "        seen.add(x + 'n')\n",
    "    else:\n",
    "        uniq_features.append(x + 'nn')\n",
    "        seen.add(x + 'nn')"
   ]
  },
  {
   "cell_type": "markdown",
   "metadata": {},
   "source": [
    "#### Training data\n"
   ]
  },
  {
   "cell_type": "code",
   "execution_count": 3,
   "metadata": {},
   "outputs": [],
   "source": [
    "X_train = pd.read_csv(r'D:\\Adeel\\UCI HAR Dataset\\train\\X_train.txt', sep='\\s+', header=None, names=uniq_features)\n",
    "\n",
    "# Add subject column to the dataframe\n",
    "X_train['subject'] = pd.read_csv(r'D:\\Adeel\\UCI HAR Dataset\\train\\subject_train.txt', header=None)\n",
    "\n",
    "# Read training labels and map activity labels to activity names\n",
    "y_train = pd.read_csv(r'D:\\Adeel\\UCI HAR Dataset\\train\\y_train.txt', names=['Activity'])\n",
    "activity_map = {1: 'WALKING', 2: 'WALKING_UPSTAIRS', 3: 'WALKING_DOWNSTAIRS',\n",
    "                4: 'SITTING', 5: 'STANDING', 6: 'LAYING'}\n",
    "y_train_labels = y_train['Activity'].replace(activity_map)\n",
    "\n",
    "# Combine training data into a single DataFrame\n",
    "X_train['Activity'] = y_train\n",
    "X_train['ActivityName'] = y_train_labels"
   ]
  },
  {
   "cell_type": "markdown",
   "metadata": {},
   "source": [
    "#### Testing data\n"
   ]
  },
  {
   "cell_type": "code",
   "execution_count": 4,
   "metadata": {},
   "outputs": [],
   "source": [
    "X_test_cv = pd.read_csv(r'D:\\Adeel\\UCI HAR Dataset\\test\\X_test.txt', sep='\\s+', header=None, names=uniq_features)\n",
    "\n",
    "# Add subject column to the dataframe\n",
    "X_test_cv['subject'] = pd.read_csv(r'D:\\Adeel\\UCI HAR Dataset\\test\\subject_test.txt', header=None)\n",
    "\n",
    "# Read testing labels and map activity labels to activity names\n",
    "y_test_cv = pd.read_csv(r'D:\\Adeel\\UCI HAR Dataset\\test\\y_test.txt', names=['Activity'])\n",
    "y_test_cv_labels = y_test_cv['Activity'].replace(activity_map)\n",
    "\n",
    "# Combine testing data into a single DataFrame\n",
    "X_test_cv['Activity'] = y_test_cv\n",
    "X_test_cv['ActivityName'] = y_test_cv_labels"
   ]
  },
  {
   "cell_type": "markdown",
   "metadata": {},
   "source": [
    "#### Cross-Validation\n",
    "\n"
   ]
  },
  {
   "cell_type": "code",
   "execution_count": 5,
   "metadata": {},
   "outputs": [],
   "source": [
    "X_cv, X_test, y_cv, y_test = train_test_split(X_test_cv, y_test_cv, test_size=0.5, random_state=42)"
   ]
  },
  {
   "cell_type": "markdown",
   "metadata": {},
   "source": [
    "#### Complete dataset\n"
   ]
  },
  {
   "cell_type": "code",
   "execution_count": 6,
   "metadata": {},
   "outputs": [
    {
     "name": "stdout",
     "output_type": "stream",
     "text": [
      "X_train Shape: (7352, 564)\n",
      "X_Cv Shape: (1473, 564)\n",
      "X_test Shape: (1474, 564)\n"
     ]
    }
   ],
   "source": [
    "print(f'X_train Shape: {X_train.shape}') \n",
    "print(f'X_Cv Shape: {X_cv.shape}')\n",
    "print(f'X_test Shape: {X_test.shape}')"
   ]
  },
  {
   "cell_type": "markdown",
   "metadata": {},
   "source": [
    "#### Checking Duplicates\n"
   ]
  },
  {
   "cell_type": "code",
   "execution_count": 7,
   "metadata": {},
   "outputs": [
    {
     "name": "stdout",
     "output_type": "stream",
     "text": [
      "No of duplicates in train: 0\n",
      "No of duplicates in cv: 0\n",
      "No of duplicates in test : 0\n"
     ]
    }
   ],
   "source": [
    "print('No of duplicates in train: {}'.format(sum(X_train.duplicated())))\n",
    "print('No of duplicates in cv: {}'.format(sum(X_cv.duplicated())))\n",
    "print('No of duplicates in test : {}'.format(sum(X_test.duplicated())))"
   ]
  },
  {
   "cell_type": "markdown",
   "metadata": {},
   "source": [
    "#### Checking for NaN/null values"
   ]
  },
  {
   "cell_type": "code",
   "execution_count": 8,
   "metadata": {},
   "outputs": [
    {
     "name": "stdout",
     "output_type": "stream",
     "text": [
      "We have 0 NaN/Null values in train\n",
      "We have 0 NaN/Null values in train\n",
      "We have 0 NaN/Null values in test\n"
     ]
    }
   ],
   "source": [
    "print('We have {} NaN/Null values in train'.format(X_train.isnull().values.sum()))\n",
    "print('We have {} NaN/Null values in train'.format(X_cv.isnull().values.sum()))\n",
    "print('We have {} NaN/Null values in test'.format(X_test.isnull().values.sum()))"
   ]
  },
  {
   "cell_type": "markdown",
   "metadata": {},
   "source": [
    "#### Checking for Data Imbalances"
   ]
  },
  {
   "cell_type": "code",
   "execution_count": 9,
   "metadata": {},
   "outputs": [
    {
     "data": {
      "image/png": "[encoded data removed]",
      "text/plain": [
       "<Figure size 1600x800 with 1 Axes>"
      ]
     },
     "metadata": {},
     "output_type": "display_data"
    }
   ],
   "source": [
    "sns.set_style('whitegrid')\n",
    "custom_palette = sns.color_palette('Set2', 6)  # Choose only 6 colors from Set2 palette\n",
    "plt.rcParams['font.family'] = 'Dejavu Sans'\n",
    "plt.figure(figsize=(16, 8))\n",
    "plt.title('Data provided by each user', fontsize=20)\n",
    "sns.countplot(x='subject', hue='ActivityName', data=X_train, palette=custom_palette)\n",
    "plt.show()\n"
   ]
  },
  {
   "cell_type": "code",
   "execution_count": 10,
   "metadata": {},
   "outputs": [
    {
     "data": {
      "image/png": "[encoded data removed]",
      "text/plain": [
       "<Figure size 1000x600 with 1 Axes>"
      ]
     },
     "metadata": {},
     "output_type": "display_data"
    }
   ],
   "source": [
    "import seaborn as sns\n",
    "import matplotlib.pyplot as plt\n",
    "\n",
    "# Set style and font family\n",
    "sns.set_style('whitegrid')\n",
    "plt.rcParams['font.family'] = 'Dejavu Sans'\n",
    "custom_palette = sns.color_palette('Set2', n_colors=6)  # Adjust the number of colors to match your needs\n",
    "\n",
    "# Create the plot\n",
    "plt.figure(figsize=(10, 6))\n",
    "plt.title('No of Datapoints per Activity', fontsize=15)\n",
    "\n",
    "# Plot the countplot with x='ActivityName' as hue\n",
    "sns.countplot(x='ActivityName', data=X_train, hue='ActivityName', palette=custom_palette, dodge=False, legend=False)\n",
    "\n",
    "# Rotate x-axis labels for better visibility\n",
    "plt.xticks(rotation=90)\n",
    "\n",
    "# Show the plot\n",
    "plt.show()\n"
   ]
  },
  {
   "cell_type": "code",
   "execution_count": 11,
   "metadata": {},
   "outputs": [],
   "source": [
    "#Changing feature names\n",
    "\n",
    "columns = X_train.columns\n",
    "\n",
    "# Removing '()' from column names\n",
    "columns = columns.str.replace('[()]','')\n",
    "columns = columns.str.replace('[-]', '')\n",
    "columns = columns.str.replace('[,]','')\n",
    "\n",
    "X_train.columns = columns\n",
    "X_cv.columns = columns\n",
    "X_test.columns = columns\n",
    "\n",
    "X_test.columns\n",
    "\n",
    "\n",
    "X_train.to_csv(r'D:\\Adeel\\UCI HAR Dataset\\Train.csv', index=False)\n",
    "X_cv.to_csv(r'D:\\Adeel\\UCI HAR Dataset\\CV.csv', index=False)\n",
    "X_test.to_csv(r'D:\\Adeel\\UCI HAR Dataset\\Test.csv', index=False)"
   ]
  },
  {
   "cell_type": "code",
   "execution_count": 12,
   "metadata": {},
   "outputs": [],
   "source": [
    "def read_data(file):\n",
    "    data = pd.read_csv(file)\n",
    "    \n",
    "    # suffle data\n",
    "    data = sklearn.utils.shuffle(data)\n",
    "    \n",
    "    X_data = data.drop(['subject', 'Activity', 'ActivityName'], axis=1)\n",
    "    y_data = data.ActivityName\n",
    "    \n",
    "    return np.array(X_data), np.array(y_data)\n",
    "\n",
    "train_X, train_y = read_data(r'D:\\Adeel\\UCI HAR Dataset\\Train.csv')\n",
    "cv_X, cv_y = read_data(r'D:\\Adeel\\UCI HAR Dataset\\CV.csv')\n",
    "test_X, test_y = read_data(r'D:\\Adeel\\UCI HAR Dataset\\Test.csv')"
   ]
  },
  {
   "cell_type": "code",
   "execution_count": 13,
   "metadata": {},
   "outputs": [],
   "source": [
    "# Activity mapping dictionary\n",
    "activity_map = {'WALKING': 1, 'WALKING_UPSTAIRS': 2, 'WALKING_DOWNSTAIRS': 3,\n",
    "                'SITTING': 4, 'STANDING': 5, 'LAYING': 6}\n",
    "\n",
    "# Define a function to apply the mapping\n",
    "map_func = np.vectorize(lambda x: activity_map[x])\n",
    "\n",
    "# Apply the mapping function\n",
    "train_y = map_func(train_y)\n",
    "cv_y = map_func(cv_y)\n",
    "test_y = map_func(test_y)"
   ]
  },
  {
   "cell_type": "code",
   "execution_count": 14,
   "metadata": {},
   "outputs": [
    {
     "name": "stdout",
     "output_type": "stream",
     "text": [
      "train_X Shape: (7352, 561)\n",
      "cv_X Shape: (1473, 561)\n",
      "test_X Shape: (1474, 561)\n",
      "train_y Shape: (7352,)\n",
      "cv_y Shape: (1473,)\n",
      "test_y Shape: (1474,)\n"
     ]
    }
   ],
   "source": [
    "print(f'train_X Shape: {train_X.shape}') \n",
    "print(f'cv_X Shape: {cv_X.shape}')\n",
    "print(f'test_X Shape: {test_X.shape}')\n",
    "print(f'train_y Shape: {train_y.shape}') \n",
    "print(f'cv_y Shape: {cv_y.shape}')\n",
    "print(f'test_y Shape: {test_y.shape}')\n",
    "\n"
   ]
  },
  {
   "cell_type": "markdown",
   "metadata": {},
   "source": [
    "#### Decision Tree\n",
    "###### We will follow following steps: \n",
    "###### 1. Identify Minimum split of samples \n",
    "###### 2. Identify Max Depth of Tree \n",
    "###### Our metric will be 'Accuracy'"
   ]
  },
  {
   "cell_type": "code",
   "execution_count": 15,
   "metadata": {},
   "outputs": [
    {
     "data": {
      "application/vnd.plotly.v1+json": {
       "config": {
        "plotlyServerURL": "https://plot.ly"
       },
       "data": [
        {
         "marker": {
          "size": 8,
          "symbol": "circle"
         },
         "mode": "lines+markers",
         "name": "Train Accuracy",
         "type": "scatter",
         "x": [
          2,
          10,
          30,
          50,
          100,
          200,
          300,
          700,
          1000,
          1500,
          2500,
          4500,
          7000,
          11000
         ],
         "y": [
          1,
          0.9940152339499456,
          0.9805495103373232,
          0.9704842219804135,
          0.9450489662676823,
          0.9317192600652884,
          0.9302230685527747,
          0.9280467899891186,
          0.9081882480957563,
          0.8869695321001088,
          0.7879488574537541,
          0.5450217627856365,
          0.3782644178454842,
          0.1913764961915125
         ]
        },
        {
         "marker": {
          "size": 8,
          "symbol": "circle"
         },
         "mode": "lines+markers",
         "name": "Validation Accuracy",
         "type": "scatter",
         "x": [
          2,
          10,
          30,
          50,
          100,
          200,
          300,
          700,
          1000,
          1500,
          2500,
          4500,
          7000,
          11000
         ],
         "y": [
          0.8547182620502376,
          0.8594704684317719,
          0.8479293957909029,
          0.8506449422946368,
          0.8336727766463,
          0.8221317040054311,
          0.8092328581126952,
          0.8187372708757638,
          0.8336727766463,
          0.8221317040054311,
          0.7298031228784793,
          0.5363204344874406,
          0.36388323150033947,
          0.17515274949083504
         ]
        }
       ],
       "layout": {
        "legend": {
         "traceorder": "normal",
         "x": 0.01,
         "y": 0.99
        },
        "template": {
         "data": {
          "bar": [
           {
            "error_x": {
             "color": "#2a3f5f"
            },
            "error_y": {
             "color": "#2a3f5f"
            },
            "marker": {
             "line": {
              "color": "white",
              "width": 0.5
             },
             "pattern": {
              "fillmode": "overlay",
              "size": 10,
              "solidity": 0.2
             }
            },
            "type": "bar"
           }
          ],
          "barpolar": [
           {
            "marker": {
             "line": {
              "color": "white",
              "width": 0.5
             },
             "pattern": {
              "fillmode": "overlay",
              "size": 10,
              "solidity": 0.2
             }
            },
            "type": "barpolar"
           }
          ],
          "carpet": [
           {
            "aaxis": {
             "endlinecolor": "#2a3f5f",
             "gridcolor": "#C8D4E3",
             "linecolor": "#C8D4E3",
             "minorgridcolor": "#C8D4E3",
             "startlinecolor": "#2a3f5f"
            },
            "baxis": {
             "endlinecolor": "#2a3f5f",
             "gridcolor": "#C8D4E3",
             "linecolor": "#C8D4E3",
             "minorgridcolor": "#C8D4E3",
             "startlinecolor": "#2a3f5f"
            },
            "type": "carpet"
           }
          ],
          "choropleth": [
           {
            "colorbar": {
             "outlinewidth": 0,
             "ticks": ""
            },
            "type": "choropleth"
           }
          ],
          "contour": [
           {
            "colorbar": {
             "outlinewidth": 0,
             "ticks": ""
            },
            "colorscale": [
             [
              0,
              "#0d0887"
             ],
             [
              0.1111111111111111,
              "#46039f"
             ],
             [
              0.2222222222222222,
              "#7201a8"
             ],
             [
              0.3333333333333333,
              "#9c179e"
             ],
             [
              0.4444444444444444,
              "#bd3786"
             ],
             [
              0.5555555555555556,
              "#d8576b"
             ],
             [
              0.6666666666666666,
              "#ed7953"
             ],
             [
              0.7777777777777778,
              "#fb9f3a"
             ],
             [
              0.8888888888888888,
              "#fdca26"
             ],
             [
              1,
              "#f0f921"
             ]
            ],
            "type": "contour"
           }
          ],
          "contourcarpet": [
           {
            "colorbar": {
             "outlinewidth": 0,
             "ticks": ""
            },
            "type": "contourcarpet"
           }
          ],
          "heatmap": [
           {
            "colorbar": {
             "outlinewidth": 0,
             "ticks": ""
            },
            "colorscale": [
             [
              0,
              "#0d0887"
             ],
             [
              0.1111111111111111,
              "#46039f"
             ],
             [
              0.2222222222222222,
              "#7201a8"
             ],
             [
              0.3333333333333333,
              "#9c179e"
             ],
             [
              0.4444444444444444,
              "#bd3786"
             ],
             [
              0.5555555555555556,
              "#d8576b"
             ],
             [
              0.6666666666666666,
              "#ed7953"
             ],
             [
              0.7777777777777778,
              "#fb9f3a"
             ],
             [
              0.8888888888888888,
              "#fdca26"
             ],
             [
              1,
              "#f0f921"
             ]
            ],
            "type": "heatmap"
           }
          ],
          "heatmapgl": [
           {
            "colorbar": {
             "outlinewidth": 0,
             "ticks": ""
            },
            "colorscale": [
             [
              0,
              "#0d0887"
             ],
             [
              0.1111111111111111,
              "#46039f"
             ],
             [
              0.2222222222222222,
              "#7201a8"
             ],
             [
              0.3333333333333333,
              "#9c179e"
             ],
             [
              0.4444444444444444,
              "#bd3786"
             ],
             [
              0.5555555555555556,
              "#d8576b"
             ],
             [
              0.6666666666666666,
              "#ed7953"
             ],
             [
              0.7777777777777778,
              "#fb9f3a"
             ],
             [
              0.8888888888888888,
              "#fdca26"
             ],
             [
              1,
              "#f0f921"
             ]
            ],
            "type": "heatmapgl"
           }
          ],
          "histogram": [
           {
            "marker": {
             "pattern": {
              "fillmode": "overlay",
              "size": 10,
              "solidity": 0.2
             }
            },
            "type": "histogram"
           }
          ],
          "histogram2d": [
           {
            "colorbar": {
             "outlinewidth": 0,
             "ticks": ""
            },
            "colorscale": [
             [
              0,
              "#0d0887"
             ],
             [
              0.1111111111111111,
              "#46039f"
             ],
             [
              0.2222222222222222,
              "#7201a8"
             ],
             [
              0.3333333333333333,
              "#9c179e"
             ],
             [
              0.4444444444444444,
              "#bd3786"
             ],
             [
              0.5555555555555556,
              "#d8576b"
             ],
             [
              0.6666666666666666,
              "#ed7953"
             ],
             [
              0.7777777777777778,
              "#fb9f3a"
             ],
             [
              0.8888888888888888,
              "#fdca26"
             ],
             [
              1,
              "#f0f921"
             ]
            ],
            "type": "histogram2d"
           }
          ],
          "histogram2dcontour": [
           {
            "colorbar": {
             "outlinewidth": 0,
             "ticks": ""
            },
            "colorscale": [
             [
              0,
              "#0d0887"
             ],
             [
              0.1111111111111111,
              "#46039f"
             ],
             [
              0.2222222222222222,
              "#7201a8"
             ],
             [
              0.3333333333333333,
              "#9c179e"
             ],
             [
              0.4444444444444444,
              "#bd3786"
             ],
             [
              0.5555555555555556,
              "#d8576b"
             ],
             [
              0.6666666666666666,
              "#ed7953"
             ],
             [
              0.7777777777777778,
              "#fb9f3a"
             ],
             [
              0.8888888888888888,
              "#fdca26"
             ],
             [
              1,
              "#f0f921"
             ]
            ],
            "type": "histogram2dcontour"
           }
          ],
          "mesh3d": [
           {
            "colorbar": {
             "outlinewidth": 0,
             "ticks": ""
            },
            "type": "mesh3d"
           }
          ],
          "parcoords": [
           {
            "line": {
             "colorbar": {
              "outlinewidth": 0,
              "ticks": ""
             }
            },
            "type": "parcoords"
           }
          ],
          "pie": [
           {
            "automargin": true,
            "type": "pie"
           }
          ],
          "scatter": [
           {
            "fillpattern": {
             "fillmode": "overlay",
             "size": 10,
             "solidity": 0.2
            },
            "type": "scatter"
           }
          ],
          "scatter3d": [
           {
            "line": {
             "colorbar": {
              "outlinewidth": 0,
              "ticks": ""
             }
            },
            "marker": {
             "colorbar": {
              "outlinewidth": 0,
              "ticks": ""
             }
            },
            "type": "scatter3d"
           }
          ],
          "scattercarpet": [
           {
            "marker": {
             "colorbar": {
              "outlinewidth": 0,
              "ticks": ""
             }
            },
            "type": "scattercarpet"
           }
          ],
          "scattergeo": [
           {
            "marker": {
             "colorbar": {
              "outlinewidth": 0,
              "ticks": ""
             }
            },
            "type": "scattergeo"
           }
          ],
          "scattergl": [
           {
            "marker": {
             "colorbar": {
              "outlinewidth": 0,
              "ticks": ""
             }
            },
            "type": "scattergl"
           }
          ],
          "scattermapbox": [
           {
            "marker": {
             "colorbar": {
              "outlinewidth": 0,
              "ticks": ""
             }
            },
            "type": "scattermapbox"
           }
          ],
          "scatterpolar": [
           {
            "marker": {
             "colorbar": {
              "outlinewidth": 0,
              "ticks": ""
             }
            },
            "type": "scatterpolar"
           }
          ],
          "scatterpolargl": [
           {
            "marker": {
             "colorbar": {
              "outlinewidth": 0,
              "ticks": ""
             }
            },
            "type": "scatterpolargl"
           }
          ],
          "scatterternary": [
           {
            "marker": {
             "colorbar": {
              "outlinewidth": 0,
              "ticks": ""
             }
            },
            "type": "scatterternary"
           }
          ],
          "surface": [
           {
            "colorbar": {
             "outlinewidth": 0,
             "ticks": ""
            },
            "colorscale": [
             [
              0,
              "#0d0887"
             ],
             [
              0.1111111111111111,
              "#46039f"
             ],
             [
              0.2222222222222222,
              "#7201a8"
             ],
             [
              0.3333333333333333,
              "#9c179e"
             ],
             [
              0.4444444444444444,
              "#bd3786"
             ],
             [
              0.5555555555555556,
              "#d8576b"
             ],
             [
              0.6666666666666666,
              "#ed7953"
             ],
             [
              0.7777777777777778,
              "#fb9f3a"
             ],
             [
              0.8888888888888888,
              "#fdca26"
             ],
             [
              1,
              "#f0f921"
             ]
            ],
            "type": "surface"
           }
          ],
          "table": [
           {
            "cells": {
             "fill": {
              "color": "#EBF0F8"
             },
             "line": {
              "color": "white"
             }
            },
            "header": {
             "fill": {
              "color": "#C8D4E3"
             },
             "line": {
              "color": "white"
             }
            },
            "type": "table"
           }
          ]
         },
         "layout": {
          "annotationdefaults": {
           "arrowcolor": "#2a3f5f",
           "arrowhead": 0,
           "arrowwidth": 1
          },
          "autotypenumbers": "strict",
          "coloraxis": {
           "colorbar": {
            "outlinewidth": 0,
            "ticks": ""
           }
          },
          "colorscale": {
           "diverging": [
            [
             0,
             "#8e0152"
            ],
            [
             0.1,
             "#c51b7d"
            ],
            [
             0.2,
             "#de77ae"
            ],
            [
             0.3,
             "#f1b6da"
            ],
            [
             0.4,
             "#fde0ef"
            ],
            [
             0.5,
             "#f7f7f7"
            ],
            [
             0.6,
             "#e6f5d0"
            ],
            [
             0.7,
             "#b8e186"
            ],
            [
             0.8,
             "#7fbc41"
            ],
            [
             0.9,
             "#4d9221"
            ],
            [
             1,
             "#276419"
            ]
           ],
           "sequential": [
            [
             0,
             "#0d0887"
            ],
            [
             0.1111111111111111,
             "#46039f"
            ],
            [
             0.2222222222222222,
             "#7201a8"
            ],
            [
             0.3333333333333333,
             "#9c179e"
            ],
            [
             0.4444444444444444,
             "#bd3786"
            ],
            [
             0.5555555555555556,
             "#d8576b"
            ],
            [
             0.6666666666666666,
             "#ed7953"
            ],
            [
             0.7777777777777778,
             "#fb9f3a"
            ],
            [
             0.8888888888888888,
             "#fdca26"
            ],
            [
             1,
             "#f0f921"
            ]
           ],
           "sequentialminus": [
            [
             0,
             "#0d0887"
            ],
            [
             0.1111111111111111,
             "#46039f"
            ],
            [
             0.2222222222222222,
             "#7201a8"
            ],
            [
             0.3333333333333333,
             "#9c179e"
            ],
            [
             0.4444444444444444,
             "#bd3786"
            ],
            [
             0.5555555555555556,
             "#d8576b"
            ],
            [
             0.6666666666666666,
             "#ed7953"
            ],
            [
             0.7777777777777778,
             "#fb9f3a"
            ],
            [
             0.8888888888888888,
             "#fdca26"
            ],
            [
             1,
             "#f0f921"
            ]
           ]
          },
          "colorway": [
           "#636efa",
           "#EF553B",
           "#00cc96",
           "#ab63fa",
           "#FFA15A",
           "#19d3f3",
           "#FF6692",
           "#B6E880",
           "#FF97FF",
           "#FECB52"
          ],
          "font": {
           "color": "#2a3f5f"
          },
          "geo": {
           "bgcolor": "white",
           "lakecolor": "white",
           "landcolor": "white",
           "showlakes": true,
           "showland": true,
           "subunitcolor": "#C8D4E3"
          },
          "hoverlabel": {
           "align": "left"
          },
          "hovermode": "closest",
          "mapbox": {
           "style": "light"
          },
          "paper_bgcolor": "white",
          "plot_bgcolor": "white",
          "polar": {
           "angularaxis": {
            "gridcolor": "#EBF0F8",
            "linecolor": "#EBF0F8",
            "ticks": ""
           },
           "bgcolor": "white",
           "radialaxis": {
            "gridcolor": "#EBF0F8",
            "linecolor": "#EBF0F8",
            "ticks": ""
           }
          },
          "scene": {
           "xaxis": {
            "backgroundcolor": "white",
            "gridcolor": "#DFE8F3",
            "gridwidth": 2,
            "linecolor": "#EBF0F8",
            "showbackground": true,
            "ticks": "",
            "zerolinecolor": "#EBF0F8"
           },
           "yaxis": {
            "backgroundcolor": "white",
            "gridcolor": "#DFE8F3",
            "gridwidth": 2,
            "linecolor": "#EBF0F8",
            "showbackground": true,
            "ticks": "",
            "zerolinecolor": "#EBF0F8"
           },
           "zaxis": {
            "backgroundcolor": "white",
            "gridcolor": "#DFE8F3",
            "gridwidth": 2,
            "linecolor": "#EBF0F8",
            "showbackground": true,
            "ticks": "",
            "zerolinecolor": "#EBF0F8"
           }
          },
          "shapedefaults": {
           "line": {
            "color": "#2a3f5f"
           }
          },
          "ternary": {
           "aaxis": {
            "gridcolor": "#DFE8F3",
            "linecolor": "#A2B1C6",
            "ticks": ""
           },
           "baxis": {
            "gridcolor": "#DFE8F3",
            "linecolor": "#A2B1C6",
            "ticks": ""
           },
           "bgcolor": "white",
           "caxis": {
            "gridcolor": "#DFE8F3",
            "linecolor": "#A2B1C6",
            "ticks": ""
           }
          },
          "title": {
           "x": 0.05
          },
          "xaxis": {
           "automargin": true,
           "gridcolor": "#EBF0F8",
           "linecolor": "#EBF0F8",
           "ticks": "",
           "title": {
            "standoff": 15
           },
           "zerolinecolor": "#EBF0F8",
           "zerolinewidth": 2
          },
          "yaxis": {
           "automargin": true,
           "gridcolor": "#EBF0F8",
           "linecolor": "#EBF0F8",
           "ticks": "",
           "title": {
            "standoff": 15
           },
           "zerolinecolor": "#EBF0F8",
           "zerolinewidth": 2
          }
         }
        },
        "title": {
         "text": "Train vs Validation Metrics"
        },
        "xaxis": {
         "tickmode": "array",
         "ticktext": [
          "2",
          "10",
          "30",
          "50",
          "100",
          "200",
          "300",
          "700",
          "1000",
          "1500",
          "2500",
          "4500",
          "7000",
          "11000"
         ],
         "tickvals": [
          2,
          10,
          30,
          50,
          100,
          200,
          300,
          700,
          1000,
          1500,
          2500,
          4500,
          7000,
          11000
         ],
         "title": {
          "text": "min_samples_split"
         },
         "type": "log"
        },
        "yaxis": {
         "title": {
          "text": "Accuracy"
         }
        }
       }
      }
     },
     "metadata": {},
     "output_type": "display_data"
    }
   ],
   "source": [
    "min_samples_split_list =  [2, 10, 30, 50, 100, 200, 300, 700, 1000, 1500, 2500, 4500, 7000, 11000] \n",
    "accuracy_list_train = []\n",
    "accuracy_list_val = []\n",
    "for min_samples_split in min_samples_split_list:\n",
    "    model = DecisionTreeClassifier(min_samples_split = min_samples_split,\n",
    "                                   random_state = 42).fit(train_X,train_y) \n",
    "    predictions_train = model.predict(train_X) \n",
    "    predictions_val = model.predict(cv_X) \n",
    "    accuracy_train = accuracy_score(predictions_train,train_y)\n",
    "    accuracy_val = accuracy_score(predictions_val,cv_y)\n",
    "    accuracy_list_train.append(accuracy_train)\n",
    "    accuracy_list_val.append(accuracy_val)\n",
    "\n",
    "fig = go.Figure()\n",
    "\n",
    "fig.add_trace(go.Scatter(\n",
    "    x=min_samples_split_list,\n",
    "    y=accuracy_list_train,\n",
    "    mode='lines+markers',\n",
    "    name='Train Accuracy',\n",
    "    marker=dict(size=8, symbol='circle')\n",
    "))\n",
    "\n",
    "fig.add_trace(go.Scatter(\n",
    "    x=min_samples_split_list,\n",
    "    y=accuracy_list_val,\n",
    "    mode='lines+markers',\n",
    "    name='Validation Accuracy',\n",
    "    marker=dict(size=8, symbol='circle')\n",
    "))\n",
    "\n",
    "fig.update_layout(\n",
    "    title='Train vs Validation Metrics',\n",
    "    xaxis_title='min_samples_split',\n",
    "    yaxis_title='Accuracy',\n",
    "    xaxis=dict(\n",
    "        type='log',  \n",
    "        tickmode='array',\n",
    "        tickvals=min_samples_split_list,\n",
    "        ticktext=[str(val) for val in min_samples_split_list] \n",
    "    ),\n",
    "    legend=dict(x=0.01, y=0.99, traceorder='normal'),\n",
    "    template='plotly_white'\n",
    ")\n",
    "\n",
    "# Display the plot\n",
    "pio.show(fig)"
   ]
  },
  {
   "cell_type": "code",
   "execution_count": 16,
   "metadata": {},
   "outputs": [
    {
     "data": {
      "application/vnd.plotly.v1+json": {
       "config": {
        "plotlyServerURL": "https://plot.ly"
       },
       "data": [
        {
         "marker": {
          "size": 8,
          "symbol": "circle"
         },
         "mode": "lines+markers",
         "name": "Train Accuracy",
         "type": "scatter",
         "x": [
          1,
          2,
          3,
          4,
          8,
          10,
          16,
          32,
          64,
          128,
          null
         ],
         "y": [
          0.3782644178454842,
          0.5450217627856365,
          0.7879488574537541,
          0.8982589771490751,
          0.9733405875952121,
          0.9904787812840044,
          0.9995919477693145,
          1,
          1,
          1,
          1
         ]
        },
        {
         "marker": {
          "size": 8,
          "symbol": "circle"
         },
         "mode": "lines+markers",
         "name": "Validation Accuracy",
         "type": "scatter",
         "x": [
          1,
          2,
          3,
          4,
          8,
          10,
          16,
          32,
          64,
          128,
          null
         ],
         "y": [
          0.36388323150033947,
          0.5363204344874406,
          0.7298031228784793,
          0.8078750848608283,
          0.8608282416836388,
          0.8574338085539714,
          0.8547182620502376,
          0.8547182620502376,
          0.8547182620502376,
          0.8547182620502376,
          0.8547182620502376
         ]
        }
       ],
       "layout": {
        "legend": {
         "traceorder": "normal",
         "x": 0.01,
         "y": 0.99
        },
        "template": {
         "data": {
          "bar": [
           {
            "error_x": {
             "color": "#2a3f5f"
            },
            "error_y": {
             "color": "#2a3f5f"
            },
            "marker": {
             "line": {
              "color": "white",
              "width": 0.5
             },
             "pattern": {
              "fillmode": "overlay",
              "size": 10,
              "solidity": 0.2
             }
            },
            "type": "bar"
           }
          ],
          "barpolar": [
           {
            "marker": {
             "line": {
              "color": "white",
              "width": 0.5
             },
             "pattern": {
              "fillmode": "overlay",
              "size": 10,
              "solidity": 0.2
             }
            },
            "type": "barpolar"
           }
          ],
          "carpet": [
           {
            "aaxis": {
             "endlinecolor": "#2a3f5f",
             "gridcolor": "#C8D4E3",
             "linecolor": "#C8D4E3",
             "minorgridcolor": "#C8D4E3",
             "startlinecolor": "#2a3f5f"
            },
            "baxis": {
             "endlinecolor": "#2a3f5f",
             "gridcolor": "#C8D4E3",
             "linecolor": "#C8D4E3",
             "minorgridcolor": "#C8D4E3",
             "startlinecolor": "#2a3f5f"
            },
            "type": "carpet"
           }
          ],
          "choropleth": [
           {
            "colorbar": {
             "outlinewidth": 0,
             "ticks": ""
            },
            "type": "choropleth"
           }
          ],
          "contour": [
           {
            "colorbar": {
             "outlinewidth": 0,
             "ticks": ""
            },
            "colorscale": [
             [
              0,
              "#0d0887"
             ],
             [
              0.1111111111111111,
              "#46039f"
             ],
             [
              0.2222222222222222,
              "#7201a8"
             ],
             [
              0.3333333333333333,
              "#9c179e"
             ],
             [
              0.4444444444444444,
              "#bd3786"
             ],
             [
              0.5555555555555556,
              "#d8576b"
             ],
             [
              0.6666666666666666,
              "#ed7953"
             ],
             [
              0.7777777777777778,
              "#fb9f3a"
             ],
             [
              0.8888888888888888,
              "#fdca26"
             ],
             [
              1,
              "#f0f921"
             ]
            ],
            "type": "contour"
           }
          ],
          "contourcarpet": [
           {
            "colorbar": {
             "outlinewidth": 0,
             "ticks": ""
            },
            "type": "contourcarpet"
           }
          ],
          "heatmap": [
           {
            "colorbar": {
             "outlinewidth": 0,
             "ticks": ""
            },
            "colorscale": [
             [
              0,
              "#0d0887"
             ],
             [
              0.1111111111111111,
              "#46039f"
             ],
             [
              0.2222222222222222,
              "#7201a8"
             ],
             [
              0.3333333333333333,
              "#9c179e"
             ],
             [
              0.4444444444444444,
              "#bd3786"
             ],
             [
              0.5555555555555556,
              "#d8576b"
             ],
             [
              0.6666666666666666,
              "#ed7953"
             ],
             [
              0.7777777777777778,
              "#fb9f3a"
             ],
             [
              0.8888888888888888,
              "#fdca26"
             ],
             [
              1,
              "#f0f921"
             ]
            ],
            "type": "heatmap"
           }
          ],
          "heatmapgl": [
           {
            "colorbar": {
             "outlinewidth": 0,
             "ticks": ""
            },
            "colorscale": [
             [
              0,
              "#0d0887"
             ],
             [
              0.1111111111111111,
              "#46039f"
             ],
             [
              0.2222222222222222,
              "#7201a8"
             ],
             [
              0.3333333333333333,
              "#9c179e"
             ],
             [
              0.4444444444444444,
              "#bd3786"
             ],
             [
              0.5555555555555556,
              "#d8576b"
             ],
             [
              0.6666666666666666,
              "#ed7953"
             ],
             [
              0.7777777777777778,
              "#fb9f3a"
             ],
             [
              0.8888888888888888,
              "#fdca26"
             ],
             [
              1,
              "#f0f921"
             ]
            ],
            "type": "heatmapgl"
           }
          ],
          "histogram": [
           {
            "marker": {
             "pattern": {
              "fillmode": "overlay",
              "size": 10,
              "solidity": 0.2
             }
            },
            "type": "histogram"
           }
          ],
          "histogram2d": [
           {
            "colorbar": {
             "outlinewidth": 0,
             "ticks": ""
            },
            "colorscale": [
             [
              0,
              "#0d0887"
             ],
             [
              0.1111111111111111,
              "#46039f"
             ],
             [
              0.2222222222222222,
              "#7201a8"
             ],
             [
              0.3333333333333333,
              "#9c179e"
             ],
             [
              0.4444444444444444,
              "#bd3786"
             ],
             [
              0.5555555555555556,
              "#d8576b"
             ],
             [
              0.6666666666666666,
              "#ed7953"
             ],
             [
              0.7777777777777778,
              "#fb9f3a"
             ],
             [
              0.8888888888888888,
              "#fdca26"
             ],
             [
              1,
              "#f0f921"
             ]
            ],
            "type": "histogram2d"
           }
          ],
          "histogram2dcontour": [
           {
            "colorbar": {
             "outlinewidth": 0,
             "ticks": ""
            },
            "colorscale": [
             [
              0,
              "#0d0887"
             ],
             [
              0.1111111111111111,
              "#46039f"
             ],
             [
              0.2222222222222222,
              "#7201a8"
             ],
             [
              0.3333333333333333,
              "#9c179e"
             ],
             [
              0.4444444444444444,
              "#bd3786"
             ],
             [
              0.5555555555555556,
              "#d8576b"
             ],
             [
              0.6666666666666666,
              "#ed7953"
             ],
             [
              0.7777777777777778,
              "#fb9f3a"
             ],
             [
              0.8888888888888888,
              "#fdca26"
             ],
             [
              1,
              "#f0f921"
             ]
            ],
            "type": "histogram2dcontour"
           }
          ],
          "mesh3d": [
           {
            "colorbar": {
             "outlinewidth": 0,
             "ticks": ""
            },
            "type": "mesh3d"
           }
          ],
          "parcoords": [
           {
            "line": {
             "colorbar": {
              "outlinewidth": 0,
              "ticks": ""
             }
            },
            "type": "parcoords"
           }
          ],
          "pie": [
           {
            "automargin": true,
            "type": "pie"
           }
          ],
          "scatter": [
           {
            "fillpattern": {
             "fillmode": "overlay",
             "size": 10,
             "solidity": 0.2
            },
            "type": "scatter"
           }
          ],
          "scatter3d": [
           {
            "line": {
             "colorbar": {
              "outlinewidth": 0,
              "ticks": ""
             }
            },
            "marker": {
             "colorbar": {
              "outlinewidth": 0,
              "ticks": ""
             }
            },
            "type": "scatter3d"
           }
          ],
          "scattercarpet": [
           {
            "marker": {
             "colorbar": {
              "outlinewidth": 0,
              "ticks": ""
             }
            },
            "type": "scattercarpet"
           }
          ],
          "scattergeo": [
           {
            "marker": {
             "colorbar": {
              "outlinewidth": 0,
              "ticks": ""
             }
            },
            "type": "scattergeo"
           }
          ],
          "scattergl": [
           {
            "marker": {
             "colorbar": {
              "outlinewidth": 0,
              "ticks": ""
             }
            },
            "type": "scattergl"
           }
          ],
          "scattermapbox": [
           {
            "marker": {
             "colorbar": {
              "outlinewidth": 0,
              "ticks": ""
             }
            },
            "type": "scattermapbox"
           }
          ],
          "scatterpolar": [
           {
            "marker": {
             "colorbar": {
              "outlinewidth": 0,
              "ticks": ""
             }
            },
            "type": "scatterpolar"
           }
          ],
          "scatterpolargl": [
           {
            "marker": {
             "colorbar": {
              "outlinewidth": 0,
              "ticks": ""
             }
            },
            "type": "scatterpolargl"
           }
          ],
          "scatterternary": [
           {
            "marker": {
             "colorbar": {
              "outlinewidth": 0,
              "ticks": ""
             }
            },
            "type": "scatterternary"
           }
          ],
          "surface": [
           {
            "colorbar": {
             "outlinewidth": 0,
             "ticks": ""
            },
            "colorscale": [
             [
              0,
              "#0d0887"
             ],
             [
              0.1111111111111111,
              "#46039f"
             ],
             [
              0.2222222222222222,
              "#7201a8"
             ],
             [
              0.3333333333333333,
              "#9c179e"
             ],
             [
              0.4444444444444444,
              "#bd3786"
             ],
             [
              0.5555555555555556,
              "#d8576b"
             ],
             [
              0.6666666666666666,
              "#ed7953"
             ],
             [
              0.7777777777777778,
              "#fb9f3a"
             ],
             [
              0.8888888888888888,
              "#fdca26"
             ],
             [
              1,
              "#f0f921"
             ]
            ],
            "type": "surface"
           }
          ],
          "table": [
           {
            "cells": {
             "fill": {
              "color": "#EBF0F8"
             },
             "line": {
              "color": "white"
             }
            },
            "header": {
             "fill": {
              "color": "#C8D4E3"
             },
             "line": {
              "color": "white"
             }
            },
            "type": "table"
           }
          ]
         },
         "layout": {
          "annotationdefaults": {
           "arrowcolor": "#2a3f5f",
           "arrowhead": 0,
           "arrowwidth": 1
          },
          "autotypenumbers": "strict",
          "coloraxis": {
           "colorbar": {
            "outlinewidth": 0,
            "ticks": ""
           }
          },
          "colorscale": {
           "diverging": [
            [
             0,
             "#8e0152"
            ],
            [
             0.1,
             "#c51b7d"
            ],
            [
             0.2,
             "#de77ae"
            ],
            [
             0.3,
             "#f1b6da"
            ],
            [
             0.4,
             "#fde0ef"
            ],
            [
             0.5,
             "#f7f7f7"
            ],
            [
             0.6,
             "#e6f5d0"
            ],
            [
             0.7,
             "#b8e186"
            ],
            [
             0.8,
             "#7fbc41"
            ],
            [
             0.9,
             "#4d9221"
            ],
            [
             1,
             "#276419"
            ]
           ],
           "sequential": [
            [
             0,
             "#0d0887"
            ],
            [
             0.1111111111111111,
             "#46039f"
            ],
            [
             0.2222222222222222,
             "#7201a8"
            ],
            [
             0.3333333333333333,
             "#9c179e"
            ],
            [
             0.4444444444444444,
             "#bd3786"
            ],
            [
             0.5555555555555556,
             "#d8576b"
            ],
            [
             0.6666666666666666,
             "#ed7953"
            ],
            [
             0.7777777777777778,
             "#fb9f3a"
            ],
            [
             0.8888888888888888,
             "#fdca26"
            ],
            [
             1,
             "#f0f921"
            ]
           ],
           "sequentialminus": [
            [
             0,
             "#0d0887"
            ],
            [
             0.1111111111111111,
             "#46039f"
            ],
            [
             0.2222222222222222,
             "#7201a8"
            ],
            [
             0.3333333333333333,
             "#9c179e"
            ],
            [
             0.4444444444444444,
             "#bd3786"
            ],
            [
             0.5555555555555556,
             "#d8576b"
            ],
            [
             0.6666666666666666,
             "#ed7953"
            ],
            [
             0.7777777777777778,
             "#fb9f3a"
            ],
            [
             0.8888888888888888,
             "#fdca26"
            ],
            [
             1,
             "#f0f921"
            ]
           ]
          },
          "colorway": [
           "#636efa",
           "#EF553B",
           "#00cc96",
           "#ab63fa",
           "#FFA15A",
           "#19d3f3",
           "#FF6692",
           "#B6E880",
           "#FF97FF",
           "#FECB52"
          ],
          "font": {
           "color": "#2a3f5f"
          },
          "geo": {
           "bgcolor": "white",
           "lakecolor": "white",
           "landcolor": "white",
           "showlakes": true,
           "showland": true,
           "subunitcolor": "#C8D4E3"
          },
          "hoverlabel": {
           "align": "left"
          },
          "hovermode": "closest",
          "mapbox": {
           "style": "light"
          },
          "paper_bgcolor": "white",
          "plot_bgcolor": "white",
          "polar": {
           "angularaxis": {
            "gridcolor": "#EBF0F8",
            "linecolor": "#EBF0F8",
            "ticks": ""
           },
           "bgcolor": "white",
           "radialaxis": {
            "gridcolor": "#EBF0F8",
            "linecolor": "#EBF0F8",
            "ticks": ""
           }
          },
          "scene": {
           "xaxis": {
            "backgroundcolor": "white",
            "gridcolor": "#DFE8F3",
            "gridwidth": 2,
            "linecolor": "#EBF0F8",
            "showbackground": true,
            "ticks": "",
            "zerolinecolor": "#EBF0F8"
           },
           "yaxis": {
            "backgroundcolor": "white",
            "gridcolor": "#DFE8F3",
            "gridwidth": 2,
            "linecolor": "#EBF0F8",
            "showbackground": true,
            "ticks": "",
            "zerolinecolor": "#EBF0F8"
           },
           "zaxis": {
            "backgroundcolor": "white",
            "gridcolor": "#DFE8F3",
            "gridwidth": 2,
            "linecolor": "#EBF0F8",
            "showbackground": true,
            "ticks": "",
            "zerolinecolor": "#EBF0F8"
           }
          },
          "shapedefaults": {
           "line": {
            "color": "#2a3f5f"
           }
          },
          "ternary": {
           "aaxis": {
            "gridcolor": "#DFE8F3",
            "linecolor": "#A2B1C6",
            "ticks": ""
           },
           "baxis": {
            "gridcolor": "#DFE8F3",
            "linecolor": "#A2B1C6",
            "ticks": ""
           },
           "bgcolor": "white",
           "caxis": {
            "gridcolor": "#DFE8F3",
            "linecolor": "#A2B1C6",
            "ticks": ""
           }
          },
          "title": {
           "x": 0.05
          },
          "xaxis": {
           "automargin": true,
           "gridcolor": "#EBF0F8",
           "linecolor": "#EBF0F8",
           "ticks": "",
           "title": {
            "standoff": 15
           },
           "zerolinecolor": "#EBF0F8",
           "zerolinewidth": 2
          },
          "yaxis": {
           "automargin": true,
           "gridcolor": "#EBF0F8",
           "linecolor": "#EBF0F8",
           "ticks": "",
           "title": {
            "standoff": 15
           },
           "zerolinecolor": "#EBF0F8",
           "zerolinewidth": 2
          }
         }
        },
        "title": {
         "text": "Train vs Validation Metrics"
        },
        "xaxis": {
         "tickmode": "array",
         "ticktext": [
          "1",
          "2",
          "3",
          "4",
          "8",
          "10",
          "16",
          "32",
          "64",
          "128",
          "None"
         ],
         "tickvals": [
          1,
          2,
          3,
          4,
          8,
          10,
          16,
          32,
          64,
          128,
          null
         ],
         "title": {
          "text": "max_depth"
         }
        },
        "yaxis": {
         "title": {
          "text": "Accuracy"
         }
        }
       }
      }
     },
     "metadata": {},
     "output_type": "display_data"
    }
   ],
   "source": [
    "max_depth_list = [1, 2, 3, 4, 8, 10, 16, 32, 64, 128, None]\n",
    "accuracy_list_train = []\n",
    "accuracy_list_val = []\n",
    "\n",
    "# Evaluate model for different max_depth values\n",
    "for max_depth in max_depth_list:\n",
    "    model = DecisionTreeClassifier(max_depth=max_depth, random_state=42).fit(train_X, train_y)\n",
    "    predictions_train = model.predict(train_X)\n",
    "    predictions_val = model.predict(cv_X)\n",
    "    accuracy_train = accuracy_score(predictions_train, train_y)\n",
    "    accuracy_val = accuracy_score(predictions_val, cv_y)\n",
    "    accuracy_list_train.append(accuracy_train)\n",
    "    accuracy_list_val.append(accuracy_val)\n",
    "\n",
    "# Create the interactive plot\n",
    "fig = go.Figure()\n",
    "\n",
    "fig.add_trace(go.Scatter(\n",
    "    x=max_depth_list,\n",
    "    y=accuracy_list_train,\n",
    "    mode='lines+markers',\n",
    "    name='Train Accuracy',\n",
    "    marker=dict(size=8, symbol='circle')\n",
    "))\n",
    "\n",
    "fig.add_trace(go.Scatter(\n",
    "    x=max_depth_list,\n",
    "    y=accuracy_list_val,\n",
    "    mode='lines+markers',\n",
    "    name='Validation Accuracy',\n",
    "    marker=dict(size=8, symbol='circle')\n",
    "))\n",
    "\n",
    "# Update layout to improve readability\n",
    "fig.update_layout(\n",
    "    title='Train vs Validation Metrics',\n",
    "    xaxis_title='max_depth',\n",
    "    yaxis_title='Accuracy',\n",
    "    xaxis=dict(\n",
    "        tickmode='array',\n",
    "        tickvals=max_depth_list,\n",
    "        ticktext=[str(val) for val in max_depth_list]  # Customize tick labels\n",
    "    ),\n",
    "    legend=dict(x=0.01, y=0.99, traceorder='normal'),\n",
    "    template='plotly_white'\n",
    ")\n",
    "\n",
    "# Display the plot\n",
    "pio.show(fig)"
   ]
  },
  {
   "cell_type": "markdown",
   "metadata": {},
   "source": [
    "#### For Single Decision Tree"
   ]
  },
  {
   "cell_type": "code",
   "execution_count": 17,
   "metadata": {},
   "outputs": [],
   "source": [
    "max_depth = 16\n",
    "min_samples_split = 1000\n",
    "\n",
    "decision_tree_model = DecisionTreeClassifier(min_samples_split = min_samples_split,\n",
    "                                             max_depth = max_depth,\n",
    "                                             random_state = 42).fit(train_X,train_y)\n",
    "# Make predictions\n",
    "predictions_train = decision_tree_model.predict(train_X)\n",
    "probabilities_train = decision_tree_model.predict_proba(train_X)\n",
    "predictions_val = decision_tree_model.predict(cv_X)\n",
    "probabilities_val = decision_tree_model.predict_proba(cv_X)"
   ]
  },
  {
   "cell_type": "code",
   "execution_count": 18,
   "metadata": {},
   "outputs": [],
   "source": [
    "max_depth = 16\n",
    "min_samples_split = 1000\n",
    "\n",
    "decision_tree_model = DecisionTreeClassifier(min_samples_split = min_samples_split,\n",
    "                                             max_depth = max_depth,\n",
    "                                             random_state = 42).fit(train_X,train_y)\n",
    "\n",
    "# Make predictions\n",
    "predictions_train = decision_tree_model.predict(train_X)\n",
    "probabilities_train = decision_tree_model.predict_proba(train_X)\n",
    "\n",
    "predictions_val = decision_tree_model.predict(cv_X)\n",
    "probabilities_val = decision_tree_model.predict_proba(cv_X)\n",
    "\n",
    "# Calculate various metrics\n",
    "accuracy_train = accuracy_score(train_y, predictions_train)\n",
    "accuracy_val = accuracy_score(cv_y, predictions_val)\n",
    "\n",
    "precision_train = precision_score(train_y, predictions_train, average='weighted', zero_division=0)\n",
    "precision_val = precision_score(cv_y, predictions_val, average='weighted', zero_division=0)\n",
    "\n",
    "recall_train = recall_score(train_y, predictions_train, average='weighted', zero_division=0)\n",
    "recall_val = recall_score(cv_y, predictions_val, average='weighted', zero_division=0)\n",
    "\n",
    "f1_train = f1_score(train_y, predictions_train, average='weighted', zero_division=0)\n",
    "f1_val = f1_score(cv_y, predictions_val, average='weighted', zero_division=0)\n",
    "\n",
    "roc_auc_train = roc_auc_score(train_y, probabilities_train, multi_class='ovr')\n",
    "roc_auc_val = roc_auc_score(cv_y, probabilities_val, multi_class='ovr')\n",
    "\n",
    "conf_matrix_train = confusion_matrix(train_y, predictions_train)\n",
    "conf_matrix_val = confusion_matrix(cv_y, predictions_val)\n",
    "\n",
    "metrics_train = [accuracy_train,precision_train,recall_train,f1_train,roc_auc_train]\n",
    "metrics_val = [accuracy_val,precision_val,recall_val,f1_val,roc_auc_val]"
   ]
  },
  {
   "cell_type": "markdown",
   "metadata": {},
   "source": [
    "#### Defining functions for prinint and plotting"
   ]
  },
  {
   "cell_type": "code",
   "execution_count": 19,
   "metadata": {},
   "outputs": [],
   "source": [
    "def print_metrics(y_true, y_pred, y_proba, set_name):\n",
    "    accuracy = accuracy_score(y_true, y_pred)\n",
    "    precision = precision_score(y_true, y_pred, average='weighted', zero_division=0)\n",
    "    recall = recall_score(y_true, y_pred, average='weighted', zero_division=0)\n",
    "    f1 = f1_score(y_true, y_pred, average='weighted', zero_division=0)\n",
    "    roc_auc = roc_auc_score(y_true, y_proba, multi_class='ovr')\n",
    "\n",
    "    print(f\"Metrics {set_name}:\")\n",
    "    print(f\"\\tAccuracy: {accuracy:.4f}\")\n",
    "    print(f\"\\tPrecision: {precision:.4f}\")\n",
    "    print(f\"\\tRecall: {recall:.4f}\")\n",
    "    print(f\"\\tF1 score: {f1:.4f}\")\n",
    "    print(f\"\\tROC AUC: {roc_auc:.4f}\")\n",
    "  \n",
    "    \n",
    "# Define function to plot confusion matrix\n",
    "def plot_confusion_matrix(y_true, y_pred, classes, title=None, cmap=plt.cm.Blues):\n",
    "    cm = confusion_matrix(y_true, y_pred, labels=classes)\n",
    "    fig, ax = plt.subplots()\n",
    "    im = ax.imshow(cm, interpolation='nearest', cmap=cmap)\n",
    "    ax.figure.colorbar(im, ax=ax)\n",
    "    ax.set(xticks=np.arange(cm.shape[1]),\n",
    "           yticks=np.arange(cm.shape[0]),\n",
    "           xticklabels=classes, yticklabels=classes,\n",
    "           title=title,\n",
    "           ylabel='True label',\n",
    "           xlabel='Predicted label')\n",
    "\n",
    "    plt.setp(ax.get_xticklabels(), rotation=45, ha=\"right\", rotation_mode=\"anchor\")\n",
    "\n",
    "    fmt = 'd'\n",
    "    thresh = cm.max() / 2.\n",
    "    for i in range(cm.shape[0]):\n",
    "        for j in range(cm.shape[1]):\n",
    "            ax.text(j, i, format(cm[i, j], fmt), ha=\"center\", va=\"center\",\n",
    "                    color=\"white\" if cm[i, j] > thresh else \"black\")\n",
    "    fig.tight_layout()\n",
    "    plt.show()\n",
    "    \n",
    "metric_names = ['Accuracy', 'Precision', 'Recall', 'F1 Score', 'ROC AUC'] \n",
    "# Define function to plot metrics\n",
    "def plot_metrics_comparison(metrics_train, metrics_val, metric_names):\n",
    "    if len(metrics_train) != len(metrics_val) or len(metrics_train) != len(metric_names):\n",
    "        raise ValueError(\"All input lists must have the same length.\")\n",
    "\n",
    "    n_metrics = len(metrics_train)\n",
    "    bar_width = 0.35\n",
    "    index = np.arange(n_metrics)\n",
    "\n",
    "    fig, ax = plt.subplots(figsize=(10, 6))\n",
    "    bar_train = ax.bar(index, metrics_train, bar_width, label='Train')\n",
    "    bar_val = ax.bar(index + bar_width, metrics_val, bar_width, label='Validation')\n",
    "\n",
    "    ax.set_xlabel('Metrics')\n",
    "    ax.set_ylabel('Scores')\n",
    "    ax.set_title('Comparison of Metrics for Train and Validation Sets')\n",
    "    ax.set_xticks(index + bar_width / 2)\n",
    "    ax.set_xticklabels(metric_names)\n",
    "    ax.legend()\n",
    "\n",
    "    # Add data labels to the bars\n",
    "    for bar in bar_train:\n",
    "        height = bar.get_height()\n",
    "        ax.text(bar.get_x() + bar.get_width() / 2, height, f'{height*100:.3f}', ha='center', va='bottom')\n",
    "\n",
    "    for bar in bar_val:\n",
    "        height = bar.get_height()\n",
    "        ax.text(bar.get_x() + bar.get_width() / 2, height, f'{height*100:.3f}', ha='center', va='bottom')\n",
    "\n",
    "    plt.show()\n"
   ]
  },
  {
   "cell_type": "markdown",
   "metadata": {},
   "source": [
    "#### Results for Single Decision Tree"
   ]
  },
  {
   "cell_type": "code",
   "execution_count": 20,
   "metadata": {},
   "outputs": [
    {
     "name": "stdout",
     "output_type": "stream",
     "text": [
      "Metrics Train:\n",
      "\tAccuracy: 0.9082\n",
      "\tPrecision: 0.9133\n",
      "\tRecall: 0.9082\n",
      "\tF1 score: 0.9092\n",
      "\tROC AUC: 0.9879\n"
     ]
    },
    {
     "data": {
      "image/png": "[encoded data removed]",
      "text/plain": [
       "<Figure size 640x480 with 2 Axes>"
      ]
     },
     "metadata": {},
     "output_type": "display_data"
    },
    {
     "name": "stdout",
     "output_type": "stream",
     "text": [
      "Metrics Cross Validation:\n",
      "\tAccuracy: 0.8337\n",
      "\tPrecision: 0.8456\n",
      "\tRecall: 0.8337\n",
      "\tF1 score: 0.8355\n",
      "\tROC AUC: 0.9737\n"
     ]
    },
    {
     "data": {
      "image/png": "[encoded data removed]",
      "text/plain": [
       "<Figure size 640x480 with 2 Axes>"
      ]
     },
     "metadata": {},
     "output_type": "display_data"
    },
    {
     "data": {
      "image/png": "[encoded data removed]",
      "text/plain": [
       "<Figure size 1000x600 with 1 Axes>"
      ]
     },
     "metadata": {},
     "output_type": "display_data"
    }
   ],
   "source": [
    "# Print metrics and plot confusion matrix for training set\n",
    "metric_names = ['Accuracy', 'Precision', 'Recall', 'F1 Score', 'ROC AUC']\n",
    "\n",
    "print_metrics(train_y, predictions_train,probabilities_train,\"Train\")\n",
    "plot_confusion_matrix(train_y, predictions_train, unique_labels(train_y, predictions_train), title=f'Confusion matrix - Train')\n",
    "\n",
    "# Print metrics and plot confusion matrix for validation set\n",
    "print_metrics(cv_y, predictions_val,probabilities_val,\"Cross Validation\")\n",
    "plot_confusion_matrix(cv_y, predictions_val, unique_labels(cv_y, predictions_val), title=f'Confusion matrix - Cross Validation')\n",
    "\n",
    "plot_metrics_comparison(metrics_train, metrics_val, metric_names)"
   ]
  },
  {
   "cell_type": "markdown",
   "metadata": {},
   "source": [
    "#### Random Forest\n",
    "###### For random forest instead of manually selecting hyperparameters we're going to use Cross-validation set to tune hyperparameters and give us the best parameters for the model to run on."
   ]
  },
  {
   "cell_type": "code",
   "execution_count": 21,
   "metadata": {},
   "outputs": [
    {
     "name": "stdout",
     "output_type": "stream",
     "text": [
      "Fitting 3 folds for each of 560 candidates, totalling 1680 fits\n",
      "Best Parameters: {'criterion': 'entropy', 'max_depth': 16, 'min_samples_split': 2, 'n_estimators': 500}\n"
     ]
    }
   ],
   "source": [
    "\n",
    "\n",
    "# Define the parameter grid\n",
    "param_grid = {\n",
    "    'min_samples_split': [2, 10, 30, 50, 100, 200, 300, 700, 1000, 1500],\n",
    "    'max_depth': [2, 4, 8, 16, 32, 64, None],\n",
    "    'n_estimators': [10, 50, 100, 500],\n",
    "    'criterion': ['gini', 'entropy']\n",
    "}\n",
    "\n",
    "# Define the model\n",
    "model = RandomForestClassifier(random_state=42, n_jobs=-1)\n",
    "\n",
    "# Set up the GridSearchCV\n",
    "grid_search = GridSearchCV(estimator=model, param_grid=param_grid, cv=3, scoring='accuracy', n_jobs=-1, verbose=2)\n",
    "\n",
    "# Fit the model to the training data\n",
    "grid_search.fit(train_X, train_y)\n",
    "\n",
    "# Extract the best parameters and results\n",
    "best_params = grid_search.best_params_\n",
    "best_estimator = grid_search.best_estimator_\n",
    "cv_results = grid_search.cv_results_\n",
    "\n",
    "results_df = pd.DataFrame(cv_results)\n",
    "results_df.to_csv(r'D:\\Adeel\\UCI HAR Dataset\\results_df.csv', index=False)\n",
    "\n",
    "# Extract feature importances\n",
    "feature_importances = best_estimator.feature_importances_\n",
    "# Create a DataFrame for visualization\n",
    "features_df = pd.DataFrame({\n",
    "    'Feature': [f'Feature {i}' for i in range(train_X.shape[1])],\n",
    "    'Importance': feature_importances\n",
    "})\n",
    "\n",
    "# Sort the DataFrame by importance\n",
    "features_df = features_df.sort_values(by='Importance', ascending=False)\n",
    "# Best Parameters\n",
    "print(f\"Best Parameters: {best_params}\")\n"
   ]
  },
  {
   "cell_type": "code",
   "execution_count": 22,
   "metadata": {},
   "outputs": [],
   "source": [
    "predictions_train_rf = best_estimator.predict(train_X)\n",
    "probabilities_train_rf = best_estimator.predict_proba(train_X)\n",
    "\n",
    "# Predictions and Probabilities for Validation Set\n",
    "predictions_val_rf = best_estimator.predict(cv_X)\n",
    "probabilities_val_rf = best_estimator.predict_proba(cv_X)\n"
   ]
  },
  {
   "cell_type": "code",
   "execution_count": 23,
   "metadata": {},
   "outputs": [],
   "source": [
    "# Calculate various metrics\n",
    "accuracy_train_rf = accuracy_score(train_y, predictions_train_rf)\n",
    "accuracy_val_rf = accuracy_score(cv_y, predictions_val_rf)\n",
    "\n",
    "precision_train_rf = precision_score(train_y, predictions_train_rf, average='weighted', zero_division=0)\n",
    "precision_val_rf = precision_score(cv_y, predictions_val_rf, average='weighted', zero_division=0)\n",
    "\n",
    "recall_train_rf = recall_score(train_y, predictions_train_rf, average='weighted', zero_division=0)\n",
    "recall_val_rf = recall_score(cv_y, predictions_val_rf, average='weighted', zero_division=0)\n",
    "\n",
    "f1_train_rf = f1_score(train_y, predictions_train_rf, average='weighted', zero_division=0)\n",
    "f1_val_rf = f1_score(cv_y, predictions_val_rf, average='weighted', zero_division=0)\n",
    "\n",
    "roc_auc_train_rf = roc_auc_score(train_y, probabilities_train_rf, multi_class='ovr')\n",
    "roc_auc_val_rf = roc_auc_score(cv_y, probabilities_val_rf, multi_class='ovr')\n",
    "\n",
    "conf_matrix_train_rf = confusion_matrix(train_y, predictions_train_rf)\n",
    "conf_matrix_val_rf = confusion_matrix(cv_y, predictions_val_rf)\n",
    "\n",
    "metrics_train_rf = [accuracy_train_rf,precision_train_rf,recall_train_rf,f1_train_rf,roc_auc_train_rf]\n",
    "metrics_val_rf = [accuracy_val_rf,precision_val_rf,recall_val_rf,f1_val_rf,roc_auc_val_rf]"
   ]
  },
  {
   "cell_type": "code",
   "execution_count": 24,
   "metadata": {},
   "outputs": [
    {
     "name": "stdout",
     "output_type": "stream",
     "text": [
      "Metrics Train:\n",
      "\tAccuracy: 1.0000\n",
      "\tPrecision: 1.0000\n",
      "\tRecall: 1.0000\n",
      "\tF1 score: 1.0000\n",
      "\tROC AUC: 1.0000\n"
     ]
    },
    {
     "data": {
      "image/png": "[encoded data removed]",
      "text/plain": [
       "<Figure size 640x480 with 2 Axes>"
      ]
     },
     "metadata": {},
     "output_type": "display_data"
    },
    {
     "name": "stdout",
     "output_type": "stream",
     "text": [
      "Metrics Cross Validation:\n",
      "\tAccuracy: 0.9294\n",
      "\tPrecision: 0.9313\n",
      "\tRecall: 0.9294\n",
      "\tF1 score: 0.9293\n",
      "\tROC AUC: 0.9959\n"
     ]
    },
    {
     "data": {
      "image/png": "[encoded data removed]",
      "text/plain": [
       "<Figure size 640x480 with 2 Axes>"
      ]
     },
     "metadata": {},
     "output_type": "display_data"
    },
    {
     "data": {
      "image/png": "[encoded data removed]",
      "text/plain": [
       "<Figure size 1000x600 with 1 Axes>"
      ]
     },
     "metadata": {},
     "output_type": "display_data"
    }
   ],
   "source": [
    "print_metrics(train_y, predictions_train_rf,probabilities_train_rf,\"Train\")\n",
    "plot_confusion_matrix(train_y, predictions_train_rf, unique_labels(train_y, predictions_train_rf), title=f'Confusion matrix - Train')\n",
    "\n",
    "print_metrics(cv_y, predictions_val_rf,probabilities_val_rf,\"Cross Validation\")\n",
    "plot_confusion_matrix(cv_y, predictions_val_rf, unique_labels(cv_y, predictions_val_rf), title=f'Confusion matrix - Cross Validation')\n",
    "\n",
    "\n",
    "plot_metrics_comparison(metrics_train_rf, metrics_val_rf, metric_names)"
   ]
  },
  {
   "cell_type": "code",
   "execution_count": 5,
   "metadata": {},
   "outputs": [
    {
     "ename": "NameError",
     "evalue": "name 'train_X' is not defined",
     "output_type": "error",
     "traceback": [
      "\u001b[1;31m---------------------------------------------------------------------------\u001b[0m",
      "\u001b[1;31mNameError\u001b[0m                                 Traceback (most recent call last)",
      "Cell \u001b[1;32mIn[5], line 3\u001b[0m\n\u001b[0;32m      1\u001b[0m \u001b[38;5;66;03m# Standardize the data\u001b[39;00m\n\u001b[0;32m      2\u001b[0m scaler \u001b[38;5;241m=\u001b[39m StandardScaler()\n\u001b[1;32m----> 3\u001b[0m train_X \u001b[38;5;241m=\u001b[39m scaler\u001b[38;5;241m.\u001b[39mfit_transform(\u001b[43mtrain_X\u001b[49m)\n\u001b[0;32m      4\u001b[0m cv_X \u001b[38;5;241m=\u001b[39m scaler\u001b[38;5;241m.\u001b[39mtransform(cv_X)\n\u001b[0;32m      5\u001b[0m test_X \u001b[38;5;241m=\u001b[39m scaler\u001b[38;5;241m.\u001b[39mtransform(test_X)\n",
      "\u001b[1;31mNameError\u001b[0m: name 'train_X' is not defined"
     ]
    }
   ],
   "source": [
    "# Standardize the data\n",
    "scaler = StandardScaler()\n",
    "train_X = scaler.fit_transform(train_X)\n",
    "cv_X = scaler.transform(cv_X)\n",
    "test_X = scaler.transform(test_X)\n",
    "\n",
    "# Apply PCA\n",
    "pca = PCA(n_components=2)  # Example: Reduce to 2 principal components\n",
    "train_X_pca = pca.fit_transform(train_X)\n",
    "cv_X_pca = pca.transform(cv_X)\n",
    "test_X_pca = pca.transform(test_X)\n",
    "\n",
    "# Convert arrays to DataFrames for easier handling with pgmpy\n",
    "train_X_pca_df = pd.DataFrame(train_X_pca, columns=[f'PC{i+1}' for i in range(train_X_pca.shape[1])])\n",
    "cv_X_pca_df = pd.DataFrame(cv_X_pca, columns=[f'PC{i+1}' for i in range(cv_X_pca.shape[1])])\n",
    "test_X_pca_df = pd.DataFrame(test_X_pca, columns=[f'PC{i+1}' for i in range(test_X_pca.shape[1])])\n",
    "\n",
    "# Combine train_X_pca_df and train_y for model training\n",
    "train_data = pd.concat([train_X_pca_df, pd.Series(train_y, name='Class')], axis=1)\n",
    "\n",
    "# Define the structure of the Bayesian Network\n",
    "model = BayesianNetwork([('PC1', 'Class'), ('PC2', 'Class')])\n",
    "\n",
    "# Learn the parameters of the Bayesian Network using Maximum Likelihood Estimation\n",
    "model.fit(train_data, estimator=MaximumLikelihoodEstimator)\n",
    "\n",
    "# Perform inference on cv_X_pca\n",
    "cv_predictions = model.predict(cv_X_pca_df)\n",
    "\n"
   ]
  },
  {
   "cell_type": "code",
   "execution_count": null,
   "metadata": {},
   "outputs": [],
   "source": [
    "# Evaluate the predictions\n",
    "accuracy = accuracy_score(cv_y, cv_predictions)\n",
    "precision = precision_score(cv_y, cv_predictions, average='weighted')\n",
    "recall = recall_score(cv_y, cv_predictions, average='weighted')\n",
    "f1 = f1_score(cv_y, cv_predictions, average='weighted')\n",
    "\n",
    "# For ROC AUC, convert cv_y to binary format since roc_auc_score doesn't support multiclass directly\n",
    "cv_y_binary = np.where(cv_y == 1, 1, 0)  # Assuming 'WALKING' as positive class\n",
    "cv_predictions_binary = np.where(cv_predictions == 1, 1, 0)\n",
    "roc_auc = roc_auc_score(cv_y_binary, cv_predictions_binary)\n",
    "\n",
    "# Confusion Matrix\n",
    "cm = confusion_matrix(cv_y, cv_predictions)\n",
    "\n",
    "print(f\"Validation Accuracy: {accuracy:.4f}\")\n",
    "print(f\"Precision: {precision:.4f}\")\n",
    "print(f\"Recall: {recall:.4f}\")\n",
    "print(f\"F1 Score: {f1:.4f}\")\n",
    "print(f\"ROC AUC: {roc_auc:.4f}\")\n",
    "print(\"Confusion Matrix:\")\n",
    "print(cm)\n",
    "\n",
    "# Perform inference on test_X_pca\n",
    "test_predictions = model.predict(test_X_pca_df)\n",
    "\n",
    "# Evaluate the predictions on test set\n",
    "test_accuracy = accuracy_score(test_y, test_predictions)\n",
    "precision_test = precision_score(test_y, test_predictions, average='weighted')\n",
    "recall_test = recall_score(test_y, test_predictions, average='weighted')\n",
    "f1_test = f1_score(test_y, test_predictions, average='weighted')\n",
    "\n",
    "# For ROC AUC on test set\n",
    "test_y_binary = np.where(test_y == 1, 1, 0)\n",
    "test_predictions_binary = np.where(test_predictions == 1, 1, 0)\n",
    "roc_auc_test = roc_auc_score(test_y_binary, test_predictions_binary)\n",
    "\n",
    "# Confusion Matrix for test set\n",
    "cm_test = confusion_matrix(test_y, test_predictions)\n",
    "\n",
    "print(f\"\\nTest Accuracy: {test_accuracy:.4f}\")\n",
    "print(f\"Test Precision: {precision_test:.4f}\")\n",
    "print(f\"Test Recall: {recall_test:.4f}\")\n",
    "print(f\"Test F1 Score: {f1_test:.4f}\")\n",
    "print(f\"Test ROC AUC: {roc_auc_test:.4f}\")\n",
    "print(\"Test Confusion Matrix:\")\n",
    "print(cm_test)"
   ]
  }
 ],
 "metadata": {
  "kernelspec": {
   "display_name": "base",
   "language": "python",
   "name": "python3"
  },
  "language_info": {
   "codemirror_mode": {
    "name": "ipython",
    "version": 3
   },
   "file_extension": ".py",
   "mimetype": "text/x-python",
   "name": "python",
   "nbconvert_exporter": "python",
   "pygments_lexer": "ipython3",
   "version": "3.9.19"
  }
 },
 "nbformat": 4,
 "nbformat_minor": 2
}
